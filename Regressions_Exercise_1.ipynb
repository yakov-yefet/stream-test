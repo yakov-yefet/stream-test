{
  "cells": [
    {
      "cell_type": "markdown",
      "metadata": {
        "id": "view-in-github",
        "colab_type": "text"
      },
      "source": [
        "<a href=\"https://colab.research.google.com/github/yakov-yefet/stream-test/blob/main/Regressions_Exercise_1.ipynb\" target=\"_parent\"><img src=\"https://colab.research.google.com/assets/colab-badge.svg\" alt=\"Open In Colab\"/></a>"
      ]
    },
    {
      "cell_type": "markdown",
      "metadata": {
        "id": "AQVFdLHDbAvW"
      },
      "source": [
        "# Linear Regression"
      ]
    },
    {
      "cell_type": "code",
      "execution_count": 2,
      "metadata": {
        "id": "Xmj--t6CbAvY"
      },
      "outputs": [],
      "source": [
        "import statsmodels.api as sm\n",
        "import statsmodels.formula.api as smf\n",
        "import pandas as pd\n",
        "import numpy as np\n",
        "import seaborn as sns"
      ]
    },
    {
      "cell_type": "code",
      "execution_count": 1,
      "metadata": {
        "id": "tJawNmHobAvZ",
        "outputId": "87f5f041-91fd-4245-db89-c1d165ff3e57",
        "colab": {
          "base_uri": "https://localhost:8080/",
          "height": 210
        }
      },
      "outputs": [
        {
          "output_type": "error",
          "ename": "NameError",
          "evalue": "ignored",
          "traceback": [
            "\u001b[0;31m---------------------------------------------------------------------------\u001b[0m",
            "\u001b[0;31mNameError\u001b[0m                                 Traceback (most recent call last)",
            "\u001b[0;32m<ipython-input-1-0edfaa9969ee>\u001b[0m in \u001b[0;36m<cell line: 2>\u001b[0;34m()\u001b[0m\n\u001b[1;32m      1\u001b[0m \u001b[0;31m### tips\u001b[0m\u001b[0;34m\u001b[0m\u001b[0;34m\u001b[0m\u001b[0m\n\u001b[0;32m----> 2\u001b[0;31m \u001b[0mtips\u001b[0m \u001b[0;34m=\u001b[0m \u001b[0msns\u001b[0m\u001b[0;34m.\u001b[0m\u001b[0mload_dataset\u001b[0m\u001b[0;34m(\u001b[0m\u001b[0;34m'tips'\u001b[0m\u001b[0;34m)\u001b[0m\u001b[0;34m\u001b[0m\u001b[0;34m\u001b[0m\u001b[0m\n\u001b[0m\u001b[1;32m      3\u001b[0m \u001b[0mtips\u001b[0m\u001b[0;34m.\u001b[0m\u001b[0mhead\u001b[0m\u001b[0;34m(\u001b[0m\u001b[0;34m)\u001b[0m\u001b[0;34m\u001b[0m\u001b[0;34m\u001b[0m\u001b[0m\n",
            "\u001b[0;31mNameError\u001b[0m: name 'sns' is not defined"
          ]
        }
      ],
      "source": [
        "### tips\n",
        "tips = sns.load_dataset('tips')\n",
        "tips.head()"
      ]
    },
    {
      "cell_type": "markdown",
      "metadata": {
        "id": "9Q4sCrcVbAva"
      },
      "source": [
        "### The dependent variable is 'tip'"
      ]
    },
    {
      "cell_type": "code",
      "execution_count": null,
      "metadata": {
        "id": "bT2XQqnEbAva"
      },
      "outputs": [],
      "source": [
        "tips.dtypes"
      ]
    },
    {
      "cell_type": "code",
      "execution_count": null,
      "metadata": {
        "id": "JlMpHMp1bAva"
      },
      "outputs": [],
      "source": [
        "# type, income, education, prestige\n",
        "sns.distplot(tips.tip)"
      ]
    },
    {
      "cell_type": "markdown",
      "metadata": {
        "id": "1a0hN1nGbAva"
      },
      "source": [
        "### Use correlations to show which numeric variables are correlated with the dependent variable"
      ]
    },
    {
      "cell_type": "code",
      "execution_count": null,
      "metadata": {
        "id": "00wamzEebAvb"
      },
      "outputs": [],
      "source": []
    },
    {
      "cell_type": "markdown",
      "metadata": {
        "id": "JjdsNUslbAvb"
      },
      "source": [
        "### you have to assign now the data for the y and the X"
      ]
    },
    {
      "cell_type": "code",
      "execution_count": null,
      "metadata": {
        "id": "oYAPWmhZbAvb"
      },
      "outputs": [],
      "source": [
        "y =\n",
        "X ="
      ]
    },
    {
      "cell_type": "markdown",
      "metadata": {
        "id": "-IM4HhECbAvc"
      },
      "source": [
        "### We have to add a constant variable with the value 1.  Why we need this?"
      ]
    },
    {
      "cell_type": "code",
      "execution_count": null,
      "metadata": {
        "id": "Ol9jRzEnbAvc"
      },
      "outputs": [],
      "source": []
    },
    {
      "cell_type": "markdown",
      "metadata": {
        "id": "Q0ElmCjbbAvc"
      },
      "source": [
        "### Univariable Model\n",
        "\n",
        "For the univariable model, use the variable \"total_bill\" as the predictor for the \"tip\""
      ]
    },
    {
      "cell_type": "code",
      "execution_count": null,
      "metadata": {
        "id": "mNkBAYtpbAvc"
      },
      "outputs": [],
      "source": [
        "model = sm.OLS(y,X)\n",
        "mod1 = model.fit()"
      ]
    },
    {
      "cell_type": "code",
      "execution_count": null,
      "metadata": {
        "id": "p1fRau8obAvd"
      },
      "outputs": [],
      "source": [
        "print(mod1.summary())"
      ]
    },
    {
      "cell_type": "markdown",
      "metadata": {
        "id": "F-X0WIQmbAvd"
      },
      "source": [
        "#### Can the \"total_bill\" variable be considered as a good predictor for \"tip\"?"
      ]
    },
    {
      "cell_type": "code",
      "execution_count": null,
      "metadata": {
        "id": "_44UsONBbAvd"
      },
      "outputs": [],
      "source": []
    },
    {
      "cell_type": "markdown",
      "metadata": {
        "id": "Z_X3LHlrbAvd"
      },
      "source": [
        "#### Predict the y based on the model"
      ]
    },
    {
      "cell_type": "code",
      "execution_count": null,
      "metadata": {
        "id": "SG7vje0abAvd"
      },
      "outputs": [],
      "source": [
        "pred1 = mod1.predict(X)"
      ]
    },
    {
      "cell_type": "code",
      "execution_count": null,
      "metadata": {
        "id": "XJg7xeTCbAve"
      },
      "outputs": [],
      "source": [
        "sns.scatterplot(x=pred1,y=y)\n",
        "sns.regplot(x=pred1,y=y)"
      ]
    },
    {
      "cell_type": "code",
      "execution_count": null,
      "metadata": {
        "id": "YAHDS1rPbAve"
      },
      "outputs": [],
      "source": [
        "sns.displot(pred1)"
      ]
    },
    {
      "cell_type": "markdown",
      "metadata": {
        "id": "IvW_bfXjbAve"
      },
      "source": [
        "### Multivariable Model"
      ]
    },
    {
      "cell_type": "code",
      "execution_count": null,
      "metadata": {
        "id": "IxUyFRTObAve"
      },
      "outputs": [],
      "source": [
        "cars.data.columns"
      ]
    },
    {
      "cell_type": "code",
      "execution_count": null,
      "metadata": {
        "id": "d6EyHyBZbAve"
      },
      "outputs": [],
      "source": [
        "y = cars.data['income']\n",
        "X = cars.data[cars.data.columns.drop('income')]"
      ]
    },
    {
      "cell_type": "markdown",
      "metadata": {
        "id": "KwDtdXDcbAvf"
      },
      "source": [
        "#### Convert the categorical variables to dummies"
      ]
    },
    {
      "cell_type": "code",
      "execution_count": null,
      "metadata": {
        "id": "btRJAty9bAvf"
      },
      "outputs": [],
      "source": []
    },
    {
      "cell_type": "markdown",
      "metadata": {
        "id": "xPglelzwbAvf"
      },
      "source": [
        "#### Now create the linear model"
      ]
    },
    {
      "cell_type": "code",
      "execution_count": null,
      "metadata": {
        "id": "sl85QMF0bAvf"
      },
      "outputs": [],
      "source": [
        "model = sm.OLS(y, Xd)\n",
        "mod1 = model.fit()"
      ]
    },
    {
      "cell_type": "code",
      "execution_count": null,
      "metadata": {
        "id": "U5RCf_IubAvf"
      },
      "outputs": [],
      "source": [
        "print(mod1.summary())"
      ]
    },
    {
      "cell_type": "markdown",
      "metadata": {
        "id": "2KdQ50eIbAvf"
      },
      "source": [
        "#### Which variables are considered to be significant predictors for the tips?"
      ]
    },
    {
      "cell_type": "code",
      "execution_count": null,
      "metadata": {
        "id": "OVD8HplWbAvf"
      },
      "outputs": [],
      "source": []
    },
    {
      "cell_type": "code",
      "execution_count": null,
      "metadata": {
        "id": "9TMI9L1JbAvg"
      },
      "outputs": [],
      "source": [
        "pred1 = mod1.predict(Xd)\n",
        "sns.scatterplot(x=pred1,y=y)\n",
        "sns.regplot(x=pred1,y=y)"
      ]
    },
    {
      "cell_type": "markdown",
      "metadata": {
        "id": "rWfCrodIbAvg"
      },
      "source": [
        "# Logistic Regression"
      ]
    },
    {
      "cell_type": "code",
      "execution_count": null,
      "metadata": {
        "id": "r-Qi6eAubAvg"
      },
      "outputs": [],
      "source": [
        "### Titanic\n",
        "df = sns.load_dataset('titanic')\n",
        "df.head()"
      ]
    },
    {
      "cell_type": "markdown",
      "metadata": {
        "id": "1mB0PNOBbAvg"
      },
      "source": [
        "#### The Titanic dataset will be used now for creating a logistic regression model. The dependent variable to be predicted is the \"alive\" (yes/no)."
      ]
    },
    {
      "cell_type": "code",
      "execution_count": null,
      "metadata": {
        "id": "CEtT2F3fbAvg"
      },
      "outputs": [],
      "source": [
        "y =\n",
        "X ="
      ]
    },
    {
      "cell_type": "markdown",
      "metadata": {
        "id": "aZoBVdCybAvh"
      },
      "source": [
        "#### Using graphics between the different variables and the dependent predictor, try to find if there are variables that show a potential for being good predictors for survival."
      ]
    },
    {
      "cell_type": "code",
      "execution_count": null,
      "metadata": {
        "id": "_XU6oHWnbAvh"
      },
      "outputs": [],
      "source": []
    },
    {
      "cell_type": "markdown",
      "metadata": {
        "id": "N5vD-f6IbAvh"
      },
      "source": [
        "#### Now its time to run the logistic regression model. Take into account that nominal/categorical variables must be encoded using dummies."
      ]
    },
    {
      "cell_type": "code",
      "execution_count": null,
      "metadata": {
        "id": "qDQqz6VhbAvs"
      },
      "outputs": [],
      "source": []
    },
    {
      "cell_type": "code",
      "execution_count": null,
      "metadata": {
        "id": "q65lq8oQbAvs"
      },
      "outputs": [],
      "source": []
    },
    {
      "cell_type": "code",
      "execution_count": null,
      "metadata": {
        "id": "OEMqnP9TbAvs"
      },
      "outputs": [],
      "source": [
        "model = smf.glm(y,X, data=df, family=sm.families.Binomial())\n",
        "mod2 = model.fit()\n",
        "print(mod2.summary())"
      ]
    },
    {
      "cell_type": "markdown",
      "metadata": {
        "id": "JQr_X6aubAvs"
      },
      "source": [
        "#### Which variables are considered to be significant predictors for the surviving the Titanic drouning?"
      ]
    },
    {
      "cell_type": "code",
      "execution_count": null,
      "metadata": {
        "id": "l4yW5eaPbAvt"
      },
      "outputs": [],
      "source": []
    },
    {
      "cell_type": "code",
      "execution_count": null,
      "metadata": {
        "id": "bJQnmn0qbAvt"
      },
      "outputs": [],
      "source": []
    },
    {
      "cell_type": "code",
      "execution_count": null,
      "metadata": {
        "id": "M36QJpBAbAvt"
      },
      "outputs": [],
      "source": [
        "pred2 = mod2.predict(X)"
      ]
    },
    {
      "cell_type": "code",
      "execution_count": null,
      "metadata": {
        "id": "hYUeMYzVbAvu"
      },
      "outputs": [],
      "source": [
        "pred2"
      ]
    },
    {
      "cell_type": "code",
      "execution_count": null,
      "metadata": {
        "id": "yvvJ2FsTbAvu"
      },
      "outputs": [],
      "source": [
        "pred2.describe()"
      ]
    },
    {
      "cell_type": "code",
      "execution_count": null,
      "metadata": {
        "id": "bcsvqI93bAvv"
      },
      "outputs": [],
      "source": [
        "sns.displot(pred2)"
      ]
    },
    {
      "cell_type": "code",
      "execution_count": null,
      "metadata": {
        "id": "PjfHsiP9bAvv"
      },
      "outputs": [],
      "source": [
        "pred2_cat = [1 if x < 0.5 else 0 for x in pred2]"
      ]
    },
    {
      "cell_type": "code",
      "execution_count": null,
      "metadata": {
        "id": "fiytjPp_bAvv"
      },
      "outputs": [],
      "source": [
        "from sklearn.metrics import confusion_matrix\n",
        "print(confusion_matrix(y, pred2_cat))"
      ]
    },
    {
      "cell_type": "markdown",
      "metadata": {
        "id": "edFOwmHWbAvv"
      },
      "source": [
        "# Colinearity\n",
        "\n",
        "Check now for colinearity (correlation) among the available variables"
      ]
    },
    {
      "cell_type": "code",
      "execution_count": null,
      "metadata": {
        "id": "DkgZYgEwbAvw"
      },
      "outputs": [],
      "source": []
    },
    {
      "cell_type": "code",
      "execution_count": null,
      "metadata": {
        "id": "x5XoZCqobAvw"
      },
      "outputs": [],
      "source": [
        "from statsmodels.stats.outliers_influence import variance_inflation_factor"
      ]
    },
    {
      "cell_type": "code",
      "execution_count": null,
      "metadata": {
        "id": "zSRpiNKObAvw"
      },
      "outputs": [],
      "source": [
        "def vif(df):\n",
        "    '''\n",
        "    VIF = variance inflation function\n",
        "    '''\n",
        "    import pandas as pd\n",
        "    # initialize dictionaries\n",
        "    vif_dict = {}\n",
        "    # X must be a dataframe and contain the independent variables only\n",
        "    for var in df.columns:\n",
        "        indep = [i for i in df.columns if i != var]\n",
        "        X, y = df[indep], df[var]\n",
        "\n",
        "        # extract r-squared from the fit\n",
        "        #rsqr = LinearRegression().fit(X, y).score(X, y)\n",
        "        model = sm.OLS(y,X).fit()\n",
        "        rsqr = model.rsquared\n",
        "        # calculate VIF\n",
        "        vif = 1/(1 - rsqr)\n",
        "        vif_dict[var] = vif\n",
        "\n",
        "    # return VIF DataFrame\n",
        "    df_vif = pd.DataFrame({'VIF': vif_dict})\n",
        "\n",
        "    return df_vif\n"
      ]
    },
    {
      "cell_type": "code",
      "execution_count": null,
      "metadata": {
        "id": "Gj7SvLqEbAvx"
      },
      "outputs": [],
      "source": [
        "vif(X)"
      ]
    },
    {
      "cell_type": "code",
      "execution_count": null,
      "metadata": {
        "id": "DmZCPCv5bAvx"
      },
      "outputs": [],
      "source": []
    }
  ],
  "metadata": {
    "kernelspec": {
      "display_name": "Python 3",
      "language": "python",
      "name": "python3"
    },
    "language_info": {
      "codemirror_mode": {
        "name": "ipython",
        "version": 3
      },
      "file_extension": ".py",
      "mimetype": "text/x-python",
      "name": "python",
      "nbconvert_exporter": "python",
      "pygments_lexer": "ipython3",
      "version": "3.7.6"
    },
    "colab": {
      "provenance": [],
      "include_colab_link": true
    }
  },
  "nbformat": 4,
  "nbformat_minor": 0
}